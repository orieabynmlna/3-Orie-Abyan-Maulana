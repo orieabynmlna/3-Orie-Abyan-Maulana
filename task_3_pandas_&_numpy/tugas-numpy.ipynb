{
 "cells": [
  {
   "cell_type": "markdown",
   "id": "d947b9cf-215c-4b18-a0b8-963556c547c7",
   "metadata": {},
   "source": [
    "# **TUGAS NUMPY**\n",
    "\n",
    "---\n",
    "\n",
    "Nama: Orie Abyan Maulana\n",
    "\n",
    "NIM: 245150207111050"
   ]
  },
  {
   "cell_type": "markdown",
   "id": "392630c3-e396-4dde-8258-cfd1085fd39d",
   "metadata": {},
   "source": [
    "Setelah mengikuti workshop Numpy dan Pandas, tentunya kalian sudah mulai memahami hal-hal apa saja yang akan dilakukan oleh Data Scientist dengan Numpy. Sekarang, saatnya mengukur kemampuan kalian dari apa yang telah kalian dapatkan pada workshop sebelumnya.\n",
    "\n",
    "**Deadline: Jumat, 21 Februari 2025**\n"
   ]
  },
  {
   "cell_type": "markdown",
   "id": "eca339fb-851e-47d9-92a3-8811c04207ed",
   "metadata": {},
   "source": [
    "# **📊 Numpy Exercise 📊**\n",
    "\n",
    "Selamat datang di latihan eksplorasi data menggunakan **Numpy**!  \n",
    "\n",
    "---"
   ]
  },
  {
   "cell_type": "markdown",
   "id": "ee73dcd6-dd10-4c9c-88ca-0eab4af9f337",
   "metadata": {},
   "source": [
    "## **📌 Soal 1: Regresi Linear** 📝\n",
    "\n",
    "Saat offline/online assessment kemarin ada persoalaan **Regresi Linear**, nah coba kamu buat menggunakan python dan numpy termasuk poin-poin berikut: <br>\n",
    "✅ Fungsi regresi mampu menerima array A dan array B dan memprediksi slope dan intercept<br>\n",
    "✅ Fungsi regresi mampu memprediksi nilai baru jika diberikan nilai X <br>"
   ]
  },
  {
   "cell_type": "code",
   "execution_count": 107,
   "id": "cbc3cb08-4559-41f8-ad23-1889bd6b5e7d",
   "metadata": {},
   "outputs": [],
   "source": [
    "import numpy as np"
   ]
  },
  {
   "cell_type": "code",
   "execution_count": 108,
   "id": "c07fdd1b",
   "metadata": {},
   "outputs": [
    {
     "name": "stdout",
     "output_type": "stream",
     "text": [
      "Slope\t\t: 43.70909090909091 \n",
      "Intercept\t: -55048.0 \n",
      "Predict Value\t: -54610.90909090909\n"
     ]
    }
   ],
   "source": [
    "array_A = np.array([3, 5, 7, 10, 15])\n",
    "array_B = np.array([40, 36, 33, 28, 22])\n",
    "\n",
    "def find_slope(x, y):\n",
    "    return ((np.sum(y)*np.sum(x**2)) - np.sum(x) * np.sum(x*y)) / (len(x) * np.sum(x**2) - (np.sum(x))**2)\n",
    "\n",
    "def find_intercept(x, y):\n",
    "    return ((len(y) * np.sum(x*y) - np.sum(x)*np.sum(y)) / len(y)*sum(x**2) - (np.sum(x))**2) \n",
    "\n",
    "m = find_slope(array_A, array_B)\n",
    "b = find_intercept(array_A, array_B)\n",
    "\n",
    "def find_equation(x):\n",
    "    return m*x + b\n",
    "\n",
    "x = 10\n",
    "y = find_equation(x)\n",
    "\n",
    "print(f\"Slope\\t\\t: {m} \\nIntercept\\t: {b} \\nPredict Value\\t: {y}\")\n",
    "\n"
   ]
  },
  {
   "cell_type": "markdown",
   "id": "a01ab4fc-cd05-4c79-bc0e-35f2412477d2",
   "metadata": {},
   "source": [
    "## **📌 Soal 2: Regresi Polinomial** 📝\n",
    "\n",
    "Saat offline/online assessment kemarin ada persoalan **Regresi Linear**, nah sekarang coba kamu buat **Regresi Polinomial** menggunakan Python dan NumPy, termasuk poin-poin berikut:<br>\n",
    "✅ Fungsi regresi mampu menerima array A dan array B serta menyesuaikan data dengan polinomial derajat tertentu.<br>\n",
    "✅ Fungsi regresi mampu memprediksi nilai baru jika diberikan nilai X.<br>\n",
    "✅ Hasil regresi mencetak koefisien polinomial yang dihasilkan.<br>"
   ]
  },
  {
   "cell_type": "code",
   "execution_count": null,
   "id": "efaa13de-f42c-43e8-b726-3d4d849807ad",
   "metadata": {},
   "outputs": [],
   "source": []
  },
  {
   "cell_type": "markdown",
   "id": "e187c964-3ab2-4ae3-a52c-4e6052c30911",
   "metadata": {},
   "source": [
    "## **📌 Soal 3: Random Values Array** 📝\n",
    "\n",
    "Pertama-tama, buatlah **Array Integer 10x10x10** dengan elemen **random** dan carikan:<br>\n",
    "1️⃣ Cari elemen minimum dan maksimum dalam array tersebut?<br>\n",
    "2️⃣ Carilah rata-rata dan median seluruh elemen dalam array tersebut?<br>"
   ]
  },
  {
   "cell_type": "code",
   "execution_count": 109,
   "id": "ba1aa95d-56ce-4834-8d73-7e27e4cc1901",
   "metadata": {},
   "outputs": [
    {
     "name": "stdout",
     "output_type": "stream",
     "text": [
      "min value: 0.00011153688968057462\n",
      "max value: 0.9993671876739108\n"
     ]
    }
   ],
   "source": [
    "array_random = np.random.rand(10, 10, 10)\n",
    "\n",
    "min_value = np.amin(array_random) \n",
    "max_value = np.amax(array_random) \n",
    "\n",
    "\n",
    "print(f'min value: {min_value}')\n",
    "print(f'max value: {max_value}')\n"
   ]
  },
  {
   "cell_type": "code",
   "execution_count": 110,
   "id": "c7cd0420-9393-449a-bcec-e5947b24b327",
   "metadata": {},
   "outputs": [
    {
     "name": "stdout",
     "output_type": "stream",
     "text": [
      "mean value: 0.4892440905967637\n",
      "median value: 0.4905202197780321\n"
     ]
    }
   ],
   "source": [
    "mean_value = np.mean(array_random)\n",
    "median_value = np.median(array_random)\n",
    "\n",
    "print(f\"mean value: {mean_value}\")\n",
    "print(f'median value: {median_value}')"
   ]
  },
  {
   "cell_type": "markdown",
   "id": "1f248c96-688d-462a-b41e-5a2275be5fde",
   "metadata": {},
   "source": [
    "## **📌 Soal 4: 2D Array Shenanigans** 📝\n",
    "\n",
    "Tugas kamu disini adalah membuat **Array 2D** sesuai ketentuan masing-masing soal: <br>\n",
    "1️⃣ Buatlah **array 10x10** yang memiliki angka \"5\" sebagai bingkai di seluruh tepi luar dan bagian dalam (selain array) berisi \"8\"? <br>\n",
    "2️⃣ Buatlah **array 2d 8x8** dengan pola seperti **checkboard/catur** (1 untuk kotak hitam, 0 untuk kotak putih)?<br>\n",
    "3️⃣ Buatlah **array 2d 15x15** dengan aturan sebagai berikut:\n",
    "- Jika suatu angka dapat dibagi 2, isi dengan 2.\n",
    "- Jika suatu angka dapat dibagi 3, isi dengan 3.\n",
    "- Jika suatu angka dapat dibagi 5, isi dengan 5.\n",
    "- Jika suatu angka dapat dibagi oleh lebih dari satu kondisi (misal, 6 bisa dibagi 2 & 3), maka simpan gabungan angka tersebut (misal, 6 → \"23\", 15 → \"35\").\n",
    "- Jika tidak memenuhi kondisi apa pun, isi dengan 0."
   ]
  },
  {
   "cell_type": "code",
   "execution_count": 111,
   "id": "e4974640-df15-43f7-9ae5-fdc8ff8f47dd",
   "metadata": {},
   "outputs": [
    {
     "name": "stdout",
     "output_type": "stream",
     "text": [
      "[[5 5 5 5 5 5 5 5 5 5]\n",
      " [5 8 8 8 8 8 8 8 8 5]\n",
      " [5 8 8 8 8 8 8 8 8 5]\n",
      " [5 8 8 8 8 8 8 8 8 5]\n",
      " [5 8 8 8 8 8 8 8 8 5]\n",
      " [5 8 8 8 8 8 8 8 8 5]\n",
      " [5 8 8 8 8 8 8 8 8 5]\n",
      " [5 8 8 8 8 8 8 8 8 5]\n",
      " [5 8 8 8 8 8 8 8 8 5]\n",
      " [5 5 5 5 5 5 5 5 5 5]]\n"
     ]
    }
   ],
   "source": [
    "array_4_1 = np.full((10,10), 8)\n",
    "\n",
    "array_4_1[:, 0] = 5\n",
    "array_4_1[0, :] = 5\n",
    "array_4_1[:, -1] = 5\n",
    "array_4_1[-1, :] = 5\n",
    "\n",
    "print(array_4_1)"
   ]
  },
  {
   "cell_type": "code",
   "execution_count": 112,
   "id": "0af5bcce-4fe7-489e-a23e-24e7ca11108f",
   "metadata": {},
   "outputs": [
    {
     "data": {
      "text/plain": [
       "array([[1., 0., 1., 0., 1., 0., 1., 0.],\n",
       "       [0., 1., 0., 1., 0., 1., 0., 1.],\n",
       "       [1., 0., 1., 0., 1., 0., 1., 0.],\n",
       "       [0., 1., 0., 1., 0., 1., 0., 1.],\n",
       "       [1., 0., 1., 0., 1., 0., 1., 0.],\n",
       "       [0., 1., 0., 1., 0., 1., 0., 1.],\n",
       "       [1., 0., 1., 0., 1., 0., 1., 0.],\n",
       "       [0., 1., 0., 1., 0., 1., 0., 1.]])"
      ]
     },
     "execution_count": 112,
     "metadata": {},
     "output_type": "execute_result"
    }
   ],
   "source": [
    "array_4_2 = np.ones((8, 8))\n",
    "array_4_2[::2, 1::2] = 0\n",
    "array_4_2[1::2, ::2] = 0\n",
    "array_4_2"
   ]
  },
  {
   "cell_type": "code",
   "execution_count": 113,
   "id": "c6f2e026",
   "metadata": {},
   "outputs": [
    {
     "name": "stdout",
     "output_type": "stream",
     "text": [
      "[[  0 235   0  23   0   5   2   3   3   2   3   2  25   0   0]\n",
      " [ 25   5   2   0   3  23   5  23   0   2   2  35   0   3   0]\n",
      " [  3  35   2  25   2 235  23   0   2  23   2 235  25  23   0]\n",
      " [  3   2   5   0  23  23  23  23  23   0   0   3   2   2   3]\n",
      " [  2   0   5   2  23  25   2   0  23   2   0   2  23   0   0]\n",
      " [  0   3   2   2   2   0   2   3  23   0   3  23   0   0   3]\n",
      " [ 23   0  23  23   0   2   0  23   3   3   3   0   2   0  35]\n",
      " [  2   3   2   3   2   0   2   2   0   2  23  23   5   0   2]\n",
      " [  0  23   3   2   3   3  23   2   2   5   2   0   0   0   0]\n",
      " [  2   2  23   0  23   2   0  35   5  23   0  23   2   5   2]\n",
      " [ 25   2   0   0   0   2  35  23   3   2   2   2   2   0   0]\n",
      " [  2   2  23   2   2  23   0   2  23   0   3  23  23  23   5]\n",
      " [  3   0  23   0   3  23   3   0   2   2   0   0   0  25   2]\n",
      " [  2   2  25   3  25  35   2   2   0   5   2   3   0   0   2]\n",
      " [  0   0  25   2   2   2 235   0  23   2   0   2   2   0   0]]\n"
     ]
    }
   ],
   "source": [
    "array_4_3 = np.random.randint(1, 10000, size=(15,15))\n",
    "\n",
    "for i in range(15):\n",
    "    for j in range(15):\n",
    "        result = ''\n",
    "        if array_4_3[i, j] % 2 == 0:\n",
    "            result += '2'\n",
    "        if array_4_3[i, j] % 3 == 0:\n",
    "            result += '3'\n",
    "        if array_4_3[i, j] % 5 == 0:\n",
    "            result += '5'\n",
    "        array_4_3[i, j] = result if result else '0' \n",
    "\n",
    "print(array_4_3)"
   ]
  },
  {
   "cell_type": "markdown",
   "id": "4b963ba6-4272-4773-ab58-33ade2e536bd",
   "metadata": {},
   "source": [
    "## **📌 Soal 5: Time & Date** 📝\n",
    "\n",
    "Kamu disini diminta untuk memanfaatkan fitur numpy untuk tanggal: <br>\n",
    "1️⃣ Bagaimana dengan numpy, kamu bisa mendapatkan tanggal hari ini, kemarin dan esok hari?<br>\n",
    "2️⃣ Tampilkan hari yang ada di bulan Mei tahun 2020?<br>"
   ]
  },
  {
   "cell_type": "code",
   "execution_count": 114,
   "id": "ac7ccf05-97da-484f-96c9-fc578e62bbbe",
   "metadata": {},
   "outputs": [
    {
     "name": "stdout",
     "output_type": "stream",
     "text": [
      "Hari ini tanggal\t: 2025-02-21\n",
      "Besok tanggal\t\t: 2025-02-22\n",
      "Kemarin tanggal\t\t: 2025-02-20\n"
     ]
    }
   ],
   "source": [
    "hari_ini = np.datetime64('today', 'D')\n",
    "besok = hari_ini + np.timedelta64(1, 'D')\n",
    "kemarin = hari_ini - np.timedelta64(1, 'D')\n",
    "\n",
    "print(f\"Hari ini tanggal\\t: {hari_ini}\")\n",
    "print(f\"Besok tanggal\\t\\t: {besok}\")\n",
    "print(f\"Kemarin tanggal\\t\\t: {kemarin}\")\n",
    "\n"
   ]
  },
  {
   "cell_type": "markdown",
   "id": "63d149d6-61a5-481c-bc7c-9e1e8b389c28",
   "metadata": {},
   "source": []
  },
  {
   "cell_type": "markdown",
   "id": "eccc9d2f-8a7a-424c-ab89-ad5e52ca20a4",
   "metadata": {},
   "source": [
    "## **📌 Soal 6: Slicing** 📝\n",
    "\n",
    "Jika diketahui array `A`, maka buatlah program untuk mendapatkan elemen dibawah ini:\n",
    "```python\n",
    "A = np.array([\n",
    "    [10, 20, 30, 40, 50, 60],\n",
    "    [70, 80, 90, 100, 110, 120],\n",
    "    [130, 140, 150, 160, 170, 180],\n",
    "    [190, 200, 210, 220, 230, 240],\n",
    "    [250, 260, 270, 280, 290, 300]\n",
    "])\n",
    "```\n",
    "\n",
    "1️⃣ Ambil elemen yang berada pada baris `ke-4` dan kolom `ke-2` dari array `A` <br>\n",
    "2️⃣ Buat `array 2D` yang hanya berisi bilangan prima dari `A` <br>\n",
    "3️⃣ Ambil elemen-elemen yang berada di tepi luar dari array `A` dan gabungkan menjadi `Satu array 1D`. <br>\n",
    "4️⃣ Dapatkan subbarray berikut:\n",
    "```python\n",
    "[[20, 40, 60],\n",
    " [80, 100, 120],\n",
    " [140, 160, 180],\n",
    " [200, 220, 240],\n",
    " [260, 280, 300]]\n",
    "```\n",
    "5️⃣ Dapatkan subbarray berikut:\n",
    "```python\n",
    " [[30, 40],\n",
    " [90, 100],\n",
    " [150, 160],\n",
    " [210, 220]]\n",
    "```"
   ]
  },
  {
   "cell_type": "code",
   "execution_count": 115,
   "id": "4ef1d236-2f82-45f5-a50a-bd202aef8084",
   "metadata": {},
   "outputs": [],
   "source": [
    "A = np.array([\n",
    "    [10, 20, 30, 40, 50, 60],\n",
    "    [70, 80, 90, 100, 110, 120],\n",
    "    [130, 140, 150, 160, 170, 180],\n",
    "    [190, 200, 210, 220, 230, 240],\n",
    "    [250, 260, 270, 280, 290, 300]\n",
    "])"
   ]
  },
  {
   "cell_type": "code",
   "execution_count": 116,
   "id": "e719e525-cf78-484e-9c40-a708a58b387e",
   "metadata": {},
   "outputs": [
    {
     "data": {
      "text/plain": [
       "200"
      ]
     },
     "execution_count": 116,
     "metadata": {},
     "output_type": "execute_result"
    }
   ],
   "source": [
    "array_6_1 = A[3, 1] \n",
    "array_6_1"
   ]
  },
  {
   "cell_type": "code",
   "execution_count": 117,
   "id": "f9b0d1e6-c30b-4828-8ad3-0a71367905ba",
   "metadata": {},
   "outputs": [
    {
     "data": {
      "text/plain": [
       "array([], dtype=int32)"
      ]
     },
     "execution_count": 117,
     "metadata": {},
     "output_type": "execute_result"
    }
   ],
   "source": [
    "def is_prime(number):\n",
    "    if number <= 1:\n",
    "        return False\n",
    "    for i in range(2, int(number**0.5) + 1):\n",
    "        if number % i == 0:\n",
    "            return False\n",
    "    return True\n",
    "\n",
    "prime = A[np.vectorize(is_prime)(A)]\n",
    "prime"
   ]
  },
  {
   "cell_type": "code",
   "execution_count": 118,
   "id": "cc637fd0-78d7-45f8-b4e8-dbde6c3e6dfc",
   "metadata": {},
   "outputs": [
    {
     "data": {
      "text/plain": [
       "array([ 10,  70, 130, 190, 250,  60, 120, 180, 240, 300,  10,  20,  30,\n",
       "        40,  50,  60, 250, 260, 270, 280, 290, 300])"
      ]
     },
     "execution_count": 118,
     "metadata": {},
     "output_type": "execute_result"
    }
   ],
   "source": [
    "array_6_3_1 = A[:,0]\n",
    "array_6_3_2 = A[:,-1]\n",
    "array_6_3_3 = A[0,:]\n",
    "array_6_3_4 = A[-1,:]\n",
    "array_6_3 = np.concatenate((array_6_3_1, array_6_3_2, array_6_3_3, array_6_3_4), axis=None)\n",
    "array_6_3\n"
   ]
  },
  {
   "cell_type": "code",
   "execution_count": 119,
   "id": "f52e24b4-98f6-41fe-9aab-8d9d243c16e1",
   "metadata": {},
   "outputs": [
    {
     "data": {
      "text/plain": [
       "array([[ 20,  40,  60],\n",
       "       [ 80, 100, 120],\n",
       "       [140, 160, 180],\n",
       "       [200, 220, 240],\n",
       "       [260, 280, 300]])"
      ]
     },
     "execution_count": 119,
     "metadata": {},
     "output_type": "execute_result"
    }
   ],
   "source": [
    "array_6_4 = A[::, 1::2]\n",
    "array_6_4"
   ]
  },
  {
   "cell_type": "code",
   "execution_count": 120,
   "id": "5282169c",
   "metadata": {},
   "outputs": [
    {
     "data": {
      "text/plain": [
       "array([[ 30,  40],\n",
       "       [ 90, 100],\n",
       "       [150, 160],\n",
       "       [210, 220]])"
      ]
     },
     "execution_count": 120,
     "metadata": {},
     "output_type": "execute_result"
    }
   ],
   "source": [
    "array_6_5 = A[0:4, 2:4]\n",
    "array_6_5"
   ]
  },
  {
   "cell_type": "markdown",
   "id": "c69b198a-5558-4ca3-8dea-c5a8d1ca81e9",
   "metadata": {},
   "source": [
    "## **📌 Soal 7: Ekspansi Array** 📝\n",
    "\n",
    "Jika kamu memiliki array ***Z = [1,2,3,4,5,6,7,8,9,10,11,12,13,14]***, buatlah kode untuk membuat array R berupa: <br>\n",
    "***R = [[1,2,3,4], [2,3,4,5], [3,4,5,6], ..., [11,12,13,14]]***?"
   ]
  },
  {
   "cell_type": "code",
   "execution_count": 121,
   "id": "6f77ba10-4474-44cd-aa7c-5a6c3940e22a",
   "metadata": {},
   "outputs": [
    {
     "data": {
      "text/plain": [
       "array([[ 1,  2,  3,  4],\n",
       "       [ 2,  3,  4,  5],\n",
       "       [ 3,  4,  5,  6],\n",
       "       [ 4,  5,  6,  7],\n",
       "       [ 5,  6,  7,  8],\n",
       "       [ 6,  7,  8,  9],\n",
       "       [ 7,  8,  9, 10],\n",
       "       [ 8,  9, 10, 11],\n",
       "       [ 9, 10, 11, 12],\n",
       "       [10, 11, 12, 13],\n",
       "       [11, 12, 13, 14]])"
      ]
     },
     "execution_count": 121,
     "metadata": {},
     "output_type": "execute_result"
    }
   ],
   "source": [
    "Z = [1, 2, 3, 4, 5, 6, 7, 8, 9, 10, 11, 12, 13, 14]\n",
    "R = np.array([Z[i:i+4] for i in range(len(Z)-3)])\n",
    "R"
   ]
  }
 ],
 "metadata": {
  "kernelspec": {
   "display_name": "base",
   "language": "python",
   "name": "python3"
  },
  "language_info": {
   "codemirror_mode": {
    "name": "ipython",
    "version": 3
   },
   "file_extension": ".py",
   "mimetype": "text/x-python",
   "name": "python",
   "nbconvert_exporter": "python",
   "pygments_lexer": "ipython3",
   "version": "3.12.7"
  }
 },
 "nbformat": 4,
 "nbformat_minor": 5
}
