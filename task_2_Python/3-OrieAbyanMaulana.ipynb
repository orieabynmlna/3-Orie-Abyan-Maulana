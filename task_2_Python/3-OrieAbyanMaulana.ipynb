{
 "cells": [
  {
   "cell_type": "markdown",
   "id": "3af06eb55927dedc",
   "metadata": {},
   "source": [
    "# Easy level\n",
    "### Test case 1 : write a function to check if a number is even or odd\n",
    "\n",
    "***You can only write 1 line in a function***"
   ]
  },
  {
   "cell_type": "code",
   "execution_count": 6,
   "id": "6d7c24b7bcc5b80d",
   "metadata": {
    "ExecuteTime": {
     "end_time": "2025-02-07T08:50:23.736158Z",
     "start_time": "2025-02-07T08:50:23.732847Z"
    }
   },
   "outputs": [
    {
     "name": "stdout",
     "output_type": "stream",
     "text": [
      "even\n",
      "odd\n"
     ]
    }
   ],
   "source": [
    "# write and continue the code down here\n",
    "# def ...(...):\n",
    "#     return ...\n",
    "\n",
    "# Test\n",
    "# print(...(4))  # Expected: Even\n",
    "# print(...(7))  # Expected: Odd\n",
    "\n",
    "# The output should be like below\n",
    "\n",
    "def even_or_add(number):\n",
    "    if number % 2 == 0:\n",
    "        return \"even\"\n",
    "    else : return \"odd\"\n",
    "\n",
    "print(even_or_add(4))\n",
    "print(even_or_add(7))\n",
    "\n"
   ]
  },
  {
   "cell_type": "markdown",
   "id": "a883ea0dbe17769c",
   "metadata": {},
   "source": [
    "# Medium level\n",
    "\n",
    "### Test case 2 : write a function to check for anagrams\n",
    "\n",
    "Checks if two strings are anagrams by comparing their sorted characters.\n",
    "\n"
   ]
  },
  {
   "cell_type": "code",
   "execution_count": null,
   "id": "279b3b0bb509fc93",
   "metadata": {
    "ExecuteTime": {
     "end_time": "2025-02-08T07:41:36.884705Z",
     "start_time": "2025-02-08T07:41:36.879705Z"
    }
   },
   "outputs": [
    {
     "name": "stdout",
     "output_type": "stream",
     "text": [
      "True\n",
      "False\n"
     ]
    }
   ],
   "source": [
    "# def ...(str1, str2):\n",
    "#     return ...\n",
    "\n",
    "# # Test\n",
    "# print(...(\"listen\", \"silent\"))  # Expected: True\n",
    "# print(...(\"hello\", \"world\"))    # Expected: False\n",
    "\n",
    "def are_anagrams(str1, str2):\n",
    "    return sorted(str1) == sorted(str2)\n",
    "\n",
    "print(are_anagrams(\"listen\", \"silent\")) \n",
    "print(are_anagrams(\"hello\", \"world\"))    "
   ]
  },
  {
   "cell_type": "markdown",
   "id": "5be0a99705f164a9",
   "metadata": {},
   "source": [
    "# Medium level\n",
    "### Test case 3 : write a function to calculate the factorial of a number"
   ]
  },
  {
   "cell_type": "code",
   "execution_count": 1,
   "id": "3a5dfba656b0ae8d",
   "metadata": {},
   "outputs": [
    {
     "name": "stdout",
     "output_type": "stream",
     "text": [
      "120\n",
      "1\n"
     ]
    }
   ],
   "source": [
    "# def ...(...):\n",
    "#     return ...\n",
    "#\n",
    "# # Test\n",
    "# print(...(5))  # Expected: 120\n",
    "# print(...(0))  # Expected: 1\n",
    "\n",
    "def factorial(n):\n",
    "    if n == 0:\n",
    "        return 1\n",
    "    else:\n",
    "        return n * factorial(n-1)\n",
    "\n",
    "print(factorial(5))\n",
    "print(factorial(0))"
   ]
  },
  {
   "cell_type": "markdown",
   "id": "91e9e53f463c85b3",
   "metadata": {},
   "source": [
    "# Hard level\n",
    "### Test case 4 : write a function if a string is a palindrome\n",
    "\n",
    "***Only 1 line of code is permitted in a function***"
   ]
  },
  {
   "cell_type": "code",
   "execution_count": null,
   "id": "38c87a81a904a09d",
   "metadata": {
    "ExecuteTime": {
     "end_time": "2025-02-08T07:58:37.038581Z",
     "start_time": "2025-02-08T07:58:37.033123Z"
    }
   },
   "outputs": [
    {
     "name": "stdout",
     "output_type": "stream",
     "text": [
      "True\n",
      "False\n",
      "True\n"
     ]
    }
   ],
   "source": [
    "# def ...(...):\n",
    "#      return ...\n",
    "#\n",
    "# # Test\n",
    "# print(...(\"racecar\"))  # Expected: True\n",
    "# print(...(\"python\"))   # Expected: False\n",
    "# print(...(\"habibah\")) # Expected : True\n",
    "\n",
    "def is_palindrome(s):\n",
    "    return s == s[::-1]\n",
    "\n",
    "print(is_palindrome(\"racecar\"))  \n",
    "print(is_palindrome(\"python\"))   \n",
    "print(is_palindrome(\"habibah\")) "
   ]
  },
  {
   "cell_type": "markdown",
   "id": "2a48d58b92c9ecff",
   "metadata": {},
   "source": [
    "# Expert level\n",
    "### Test case 5 : create a class to represent a Bank Account with deposit and withdrawal methods"
   ]
  },
  {
   "cell_type": "code",
   "execution_count": 13,
   "id": "d8cb2ddeda85fa11",
   "metadata": {
    "ExecuteTime": {
     "end_time": "2025-02-09T16:18:19.041012Z",
     "start_time": "2025-02-09T16:18:19.035604Z"
    }
   },
   "outputs": [
    {
     "name": "stdout",
     "output_type": "stream",
     "text": [
      "Deposit 1000. New balance: 1000\n",
      "Withdraw 500. New balance: 500\n",
      "Invalid withdrawal amount or insufficient funds\n"
     ]
    }
   ],
   "source": [
    "# class BankAccount:\n",
    "#     def ...(self, ...):\n",
    "#         self.\n",
    "#\n",
    "#     def deposit(self, ...):\n",
    "\n",
    "#         return ...\n",
    "#\n",
    "#     def withdraw(self, ...):\n",
    "\n",
    "#         return ...\n",
    "#\n",
    "# # Test\n",
    "# account = BankAccount(\"Name\")\n",
    "# print(account.deposit(1000))   # Expected: Deposited 1000. New balance: 1000\n",
    "# print(account.withdraw(500))   # Expected: Withdrew 500. New balance: 500\n",
    "# print(account.withdraw(600))   # Expected: Invalid withdrawal amount or insufficient funds\n",
    "\n",
    "# The output should be right below for example\n",
    "\n",
    "class BankAccount:\n",
    "    def __init__(self, name):\n",
    "        self.name = name\n",
    "        self.balance = 0\n",
    "    \n",
    "    def deposit(self, amount):\n",
    "        self.balance += amount\n",
    "        return f\"Deposit {amount}. New balance: {self.balance}\"\n",
    "    \n",
    "    def withdraw(self, amount):\n",
    "\n",
    "        if self.balance >= amount:\n",
    "            self.balance -= amount\n",
    "            \n",
    "            return f\"Withdraw {amount}. New balance: {self.balance}\"\n",
    "        \n",
    "        else:\n",
    "            return \"Invalid withdrawal amount or insufficient funds\"\n",
    "        \n",
    "\n",
    "\n",
    "account = BankAccount(\"Name\")\n",
    "print(account.deposit(1000))\n",
    "print(account.withdraw(500))\n",
    "print(account.withdraw(600))"
   ]
  },
  {
   "cell_type": "code",
   "execution_count": null,
   "id": "dd25b116",
   "metadata": {},
   "outputs": [],
   "source": []
  }
 ],
 "metadata": {
  "kernelspec": {
   "display_name": "Python 3",
   "language": "python",
   "name": "python3"
  },
  "language_info": {
   "codemirror_mode": {
    "name": "ipython",
    "version": 3
   },
   "file_extension": ".py",
   "mimetype": "text/x-python",
   "name": "python",
   "nbconvert_exporter": "python",
   "pygments_lexer": "ipython3",
   "version": "3.13.0"
  }
 },
 "nbformat": 4,
 "nbformat_minor": 5
}
